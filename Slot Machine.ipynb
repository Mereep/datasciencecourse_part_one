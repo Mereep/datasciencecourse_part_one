{
 "cells": [
  {
   "cell_type": "code",
   "execution_count": 1,
   "metadata": {
    "collapsed": true
   },
   "outputs": [],
   "source": [
    "import numpy as np\n",
    "import matplotlib.pyplot as plt"
   ]
  },
  {
   "cell_type": "code",
   "execution_count": 121,
   "metadata": {},
   "outputs": [],
   "source": [
    "class Bandit:\n",
    "    def __init__(self, win_rate:float):\n",
    "        self.win_rate = win_rate\n",
    "        self.pull_count = 0\n",
    "        self.average = 0\n",
    "        self.pulls = []\n",
    "        \n",
    "    def pull(self) -> bool:\n",
    "        rand = np.random.rand()\n",
    "        if rand < self.win_rate:\n",
    "            result = True\n",
    "        else:\n",
    "            result = False\n",
    "        \n",
    "        self.pull_count += 1\n",
    "\n",
    "        if self.pull_count > 1:\n",
    "            self.average = ((self.average * (self.pull_count-1))/(self.pull_count)) + int(result) / self.pull_count\n",
    "        else:\n",
    "            self.average = int(result)\n",
    "            \n",
    "        self.pulls.append(int(result))\n",
    "        \n",
    "        return result\n",
    "    \n",
    "    def sample(self, pull_sum:int=1):\n",
    "        \"\"\"\n",
    "        Draws a sample on estimated parameters\n",
    "        \"\"\"\n",
    "        if self.pull_count > 0:\n",
    "            pulls = np.array(self.pulls)\n",
    "            m0 = (np.sum(self.pulls) / (self.pull_count + 1))\n",
    "            stdev = np.sqrt(np.sum(np.square(pulls - m0)))\n",
    "            return np.random.normal(loc=m0, scale=(stdev/np.sqrt(self.pull_count) + 1e-7))\n",
    "        else:\n",
    "            return np.random.normal()\n",
    "        "
   ]
  },
  {
   "cell_type": "code",
   "execution_count": 29,
   "metadata": {
    "collapsed": true
   },
   "outputs": [],
   "source": [
    "b = Bandit(0.5)"
   ]
  },
  {
   "cell_type": "code",
   "execution_count": 30,
   "metadata": {},
   "outputs": [
    {
     "name": "stdout",
     "output_type": "stream",
     "text": [
      "0.4599999999999999\n"
     ]
    }
   ],
   "source": [
    "for i in range(100):\n",
    "    b.pull()\n",
    "print(b.average)"
   ]
  },
  {
   "cell_type": "code",
   "execution_count": 71,
   "metadata": {
    "collapsed": true
   },
   "outputs": [],
   "source": [
    "def pickMachineUCB1(bandits:np.ndarray, n:int) -> Bandit:\n",
    "    bandit = np.argmax([bandit.average + np.sqrt(2*np.log(n+1e-10) / (bandit.pull_count + 1e-10)) for bandit in bandits])\n",
    "    return bandits[bandit]\n",
    "    \n",
    "\n",
    "def pickMachineEpsilonGreedy(bandits:np.ndarray, epsilon:float) -> Bandit:\n",
    "    if np.random.rand() < epsilon:\n",
    "        # by random\n",
    "        choice = bandits[np.random.randint(0, len(bandits))]\n",
    "    else:\n",
    "        # pick best \n",
    "        choice = bandits[0]\n",
    "        for bandit in bandits:\n",
    "            if bandit.average > choice.average:\n",
    "                choice = bandit\n",
    "                \n",
    "    return choice\n",
    "\n",
    "def pickMachineThomson(bandits:np.ndarray):\n",
    "    pulls = np.sum([b.pull_count for b in bandits])\n",
    "    choice = np.argmax([b.sample(pull_sum=pulls) for b in bandits])\n",
    "    return bandits[choice]\n"
   ]
  },
  {
   "cell_type": "code",
   "execution_count": 7,
   "metadata": {
    "collapsed": true
   },
   "outputs": [],
   "source": [
    "def epsilon_greedy_search():\n",
    "    bandits = [Bandit(x) for x in np.arange(0, 1, 0.1)]\n",
    "    epsilons = np.arange(0, 1, 0.02)\n",
    "    for epsilon in epsilons:\n",
    "        for i in range(10000):\n",
    "            choice = pickMachineEpsilonGreedy(bandits=bandits, epsilon=epsilon)\n",
    "            choice.pull()\n",
    "\n",
    "        print(\"Epsilon: {}\".format(epsilon), [x.pull_count for x in bandits])"
   ]
  },
  {
   "cell_type": "code",
   "execution_count": 6,
   "metadata": {},
   "outputs": [
    {
     "name": "stdout",
     "output_type": "stream",
     "text": [
      "Epsilon: 0.0 [10000, 0, 0, 0, 0, 0, 0, 0, 0, 0]\n",
      "Epsilon: 0.02 [10046, 19, 27, 17, 21, 14, 20, 44, 1344, 8448]\n",
      "Epsilon: 0.04 [10094, 60, 68, 56, 53, 60, 70, 81, 1395, 18063]\n",
      "Epsilon: 0.06 [10144, 102, 121, 121, 110, 109, 135, 142, 1442, 27574]\n",
      "Epsilon: 0.08 [10214, 209, 191, 191, 194, 188, 207, 210, 1506, 36890]\n",
      "Epsilon: 0.1 [10324, 307, 302, 291, 298, 271, 311, 298, 1615, 45983]\n",
      "Epsilon: 0.12 [10461, 432, 419, 423, 413, 408, 425, 409, 1741, 54869]\n",
      "Epsilon: 0.14 [10617, 557, 560, 560, 548, 541, 569, 539, 1883, 63626]\n",
      "Epsilon: 0.16 [10778, 733, 720, 744, 710, 711, 736, 706, 2038, 72124]\n",
      "Epsilon: 0.18 [10959, 907, 885, 940, 890, 898, 914, 885, 2228, 80494]\n",
      "Epsilon: 0.2 [11159, 1103, 1079, 1127, 1087, 1098, 1113, 1091, 2439, 88704]\n",
      "Epsilon: 0.22 [11390, 1329, 1341, 1326, 1315, 1312, 1327, 1312, 2660, 96688]\n",
      "Epsilon: 0.24 [11622, 1578, 1583, 1575, 1553, 1518, 1581, 1520, 2878, 104592]\n",
      "Epsilon: 0.26 [11870, 1832, 1836, 1849, 1786, 1756, 1834, 1795, 3118, 112324]\n",
      "Epsilon: 0.28 [12127, 2083, 2118, 2141, 2074, 2004, 2099, 2081, 3386, 119887]\n",
      "Epsilon: 0.3 [12454, 2389, 2449, 2434, 2370, 2311, 2373, 2373, 3680, 127167]\n",
      "Epsilon: 0.32 [12791, 2726, 2798, 2764, 2712, 2622, 2708, 2660, 4017, 134202]\n",
      "Epsilon: 0.34 [13124, 3063, 3146, 3085, 3098, 2975, 3049, 2988, 4362, 141110]\n",
      "Epsilon: 0.36 [13484, 3430, 3475, 3459, 3472, 3314, 3433, 3353, 4710, 147870]\n",
      "Epsilon: 0.38 [13857, 3781, 3850, 3833, 3855, 3687, 3831, 3770, 5112, 154424]\n",
      "Epsilon: 0.4 [14251, 4201, 4270, 4232, 4265, 4080, 4230, 4138, 5523, 160810]\n",
      "Epsilon: 0.42 [14681, 4607, 4683, 4624, 4654, 4478, 4649, 4595, 5965, 167064]\n",
      "Epsilon: 0.44 [15134, 5076, 5115, 5057, 5109, 4911, 5101, 5035, 6371, 173091]\n",
      "Epsilon: 0.46 [15585, 5562, 5583, 5507, 5569, 5341, 5572, 5487, 6840, 178954]\n",
      "Epsilon: 0.48 [16125, 6061, 6073, 5986, 6029, 5810, 6055, 5969, 7327, 184565]\n",
      "Epsilon: 0.5 [16627, 6555, 6577, 6481, 6518, 6326, 6558, 6467, 7824, 190067]\n",
      "Epsilon: 0.52 [17137, 7071, 7095, 6962, 7021, 6824, 7122, 6970, 8325, 195473]\n",
      "Epsilon: 0.54 [17689, 7619, 7610, 7461, 7532, 7357, 7614, 7505, 8862, 200751]\n",
      "Epsilon: 0.56 [18255, 8173, 8181, 8007, 8067, 7921, 8186, 8033, 9426, 205751]\n",
      "Epsilon: 0.58 [18811, 8749, 8764, 8616, 8659, 8484, 8804, 8603, 10011, 210499]\n",
      "Epsilon: 0.6 [19404, 9359, 9388, 9218, 9254, 9074, 9381, 9231, 10582, 215109]\n",
      "Epsilon: 0.62 [20020, 9995, 10013, 9864, 9872, 9714, 9999, 9828, 11223, 219472]\n",
      "Epsilon: 0.64 [20717, 10661, 10641, 10504, 10489, 10363, 10645, 10509, 11832, 223639]\n",
      "Epsilon: 0.66 [21387, 11302, 11308, 11167, 11150, 11013, 11289, 11204, 12456, 227724]\n",
      "Epsilon: 0.68 [22062, 11998, 11954, 11856, 11838, 11719, 11971, 11864, 13109, 231629]\n",
      "Epsilon: 0.7000000000000001 [22768, 12698, 12656, 12564, 12536, 12389, 12710, 12572, 13800, 235307]\n",
      "Epsilon: 0.72 [23496, 13409, 13395, 13306, 13270, 13108, 13476, 13298, 14463, 238779]\n",
      "Epsilon: 0.74 [24226, 14131, 14132, 14067, 14036, 13848, 14234, 13999, 15206, 242121]\n",
      "Epsilon: 0.76 [24943, 14888, 14918, 14851, 14779, 14571, 14999, 14795, 15933, 245323]\n",
      "Epsilon: 0.78 [25744, 15669, 15698, 15619, 15552, 15357, 15771, 15608, 16746, 248236]\n",
      "Epsilon: 0.8 [26544, 16481, 16506, 16391, 16325, 16152, 16580, 16458, 17537, 251026]\n",
      "Epsilon: 0.8200000000000001 [27361, 17272, 17316, 17202, 17176, 16964, 17397, 17319, 18362, 253631]\n",
      "Epsilon: 0.84 [28213, 18082, 18131, 18053, 18044, 17777, 18267, 18153, 19183, 256097]\n",
      "Epsilon: 0.86 [29067, 18929, 18980, 18922, 18864, 18633, 19099, 19018, 20136, 258352]\n",
      "Epsilon: 0.88 [29926, 19784, 19911, 19793, 19766, 19520, 19957, 19817, 21034, 260492]\n",
      "Epsilon: 0.9 [30809, 20702, 20829, 20699, 20658, 20420, 20929, 20698, 21925, 262331]\n",
      "Epsilon: 0.92 [31695, 21667, 21745, 21624, 21579, 21288, 21869, 21620, 22887, 264026]\n",
      "Epsilon: 0.9400000000000001 [32679, 22636, 22669, 22513, 22513, 22240, 22818, 22578, 23811, 265543]\n",
      "Epsilon: 0.96 [33622, 23573, 23634, 23430, 23476, 23188, 23793, 23537, 24782, 266965]\n",
      "Epsilon: 0.98 [34591, 24550, 24654, 24401, 24464, 24220, 24732, 24491, 25778, 268119]\n"
     ]
    }
   ],
   "source": [
    "epsilon_greedy_search()"
   ]
  },
  {
   "cell_type": "code",
   "execution_count": 95,
   "metadata": {
    "collapsed": true
   },
   "outputs": [],
   "source": [
    "def UCB1():\n",
    "    bandits = [Bandit(x) for x in np.arange(0.1, 1, 0.1)]\n",
    "    for n in range(0, 10):\n",
    "        bandit = pickMachineUCB1(bandits=bandits, n=n)\n",
    "        bandit.pull()\n",
    "        \n",
    "    print([str(bandit.pull_count)+\": {}/{}\".format(bandit.average, bandit.win_rate) for bandit in bandits])\n"
   ]
  },
  {
   "cell_type": "code",
   "execution_count": 94,
   "metadata": {},
   "outputs": [
    {
     "name": "stdout",
     "output_type": "stream",
     "text": [
      "['1: 0/0.1', '2: 0.5/0.2', '1: 0/0.30000000000000004', '1: 1/0.4', '1: 1/0.5', '1: 1/0.6', '1: 0/0.7000000000000001', '1: 0/0.8', '1: 1/0.9']\n"
     ]
    },
    {
     "name": "stderr",
     "output_type": "stream",
     "text": [
      "C:\\Users\\richard\\Anaconda3\\lib\\site-packages\\ipykernel\\__main__.py:2: RuntimeWarning: invalid value encountered in sqrt\n",
      "  from ipykernel import kernelapp as app\n"
     ]
    }
   ],
   "source": [
    "UCB1()"
   ]
  },
  {
   "cell_type": "code",
   "execution_count": 126,
   "metadata": {
    "collapsed": true
   },
   "outputs": [],
   "source": [
    "def thomson():\n",
    "    bandits = [Bandit(x) for x in np.arange(0.1, 1, 0.1)]\n",
    "    for n in range(0, 100):\n",
    "        bandit = pickMachineThomson(bandits=bandits)\n",
    "        bandit.pull()\n",
    "        \n",
    "    print([str(bandit.pull_count)+\": {:.2f}/{:.2f} +++ \".format(bandit.average, bandit.win_rate) for bandit in bandits])\n",
    " "
   ]
  },
  {
   "cell_type": "code",
   "execution_count": 127,
   "metadata": {},
   "outputs": [
    {
     "name": "stdout",
     "output_type": "stream",
     "text": [
      "['7: 0.29/0.10 +++ ', '1: 0.00/0.20 +++ ', '13: 0.31/0.30 +++ ', '1: 0.00/0.40 +++ ', '21: 0.48/0.50 +++ ', '10: 0.60/0.60 +++ ', '18: 0.61/0.70 +++ ', '13: 0.77/0.80 +++ ', '16: 1.00/0.90 +++ ']\n"
     ]
    }
   ],
   "source": [
    "thomson()"
   ]
  },
  {
   "cell_type": "code",
   "execution_count": null,
   "metadata": {
    "collapsed": true
   },
   "outputs": [],
   "source": []
  },
  {
   "cell_type": "code",
   "execution_count": null,
   "metadata": {
    "collapsed": true
   },
   "outputs": [],
   "source": []
  }
 ],
 "metadata": {
  "kernelspec": {
   "display_name": "Python 3",
   "language": "python",
   "name": "python3"
  },
  "language_info": {
   "codemirror_mode": {
    "name": "ipython",
    "version": 3
   },
   "file_extension": ".py",
   "mimetype": "text/x-python",
   "name": "python",
   "nbconvert_exporter": "python",
   "pygments_lexer": "ipython3",
   "version": "3.6.3"
  }
 },
 "nbformat": 4,
 "nbformat_minor": 2
}
